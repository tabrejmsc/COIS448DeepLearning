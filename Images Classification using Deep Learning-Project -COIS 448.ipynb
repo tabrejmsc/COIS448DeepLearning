{
 "cells": [
  {
   "cell_type": "markdown",
   "id": "3e6a246e",
   "metadata": {},
   "source": [
    "https://keras.io/getting_started/\n",
    "Keras is a deep learning API written in Python, running on top of the machine learning platform TensorFlow. It was developed with a focus on enabling fast experimentation. Being able to go from idea to result as fast as possible is key to doing good research."
   ]
  },
  {
   "cell_type": "markdown",
   "id": "4bf46d9e",
   "metadata": {},
   "source": [
    "# Import Keras library for CNN"
   ]
  },
  {
   "cell_type": "code",
   "execution_count": 18,
   "id": "9075d715",
   "metadata": {},
   "outputs": [],
   "source": [
    "from keras.models import Sequential\n",
    "from keras.layers import Conv2D\n",
    "from keras.layers import MaxPooling2D\n",
    "from keras.layers import Flatten\n",
    "from keras.layers import Dense"
   ]
  },
  {
   "cell_type": "markdown",
   "id": "1b8e6f6d",
   "metadata": {},
   "source": [
    "# Initialising the CNN\n",
    "# Step 1 - Convolution\n",
    "# Step 2 - Pooling\n",
    "# Step 3 - Flattening\n",
    "# Step 4 - Full connection\n",
    "# Compiling the CNN"
   ]
  },
  {
   "cell_type": "code",
   "execution_count": 19,
   "id": "c1f0dd9c",
   "metadata": {},
   "outputs": [],
   "source": [
    "# Initialising the CNN\n",
    "classifier = Sequential()\n",
    "\n",
    "# Step 1 - Convolution\n",
    "classifier.add(Conv2D(32, (3, 3), input_shape = (64, 64, 3), activation = 'relu'))\n",
    "\n",
    "# Step 2 - Pooling\n",
    "classifier.add(MaxPooling2D(pool_size = (2, 2)))\n",
    "\n",
    "# Adding a second convolutional layer\n",
    "# Step 3 - Flattening\n",
    "classifier.add(Flatten())\n",
    "\n",
    "# Step 4 - Full connection\n",
    "classifier.add(Dense(units = 128, activation = 'relu'))\n",
    "\n",
    "classifier.add(Dense(units = 1, activation = 'sigmoid'))\n",
    "\n",
    "# Compiling the CNN\n",
    "classifier.compile(optimizer = 'adam', loss = 'binary_crossentropy', metrics = ['accuracy'])"
   ]
  },
  {
   "cell_type": "markdown",
   "id": "56cf1d86",
   "metadata": {},
   "source": [
    "# Part 2 - Fitting the CNN to the images"
   ]
  },
  {
   "cell_type": "code",
   "execution_count": 20,
   "id": "b7ab0266",
   "metadata": {},
   "outputs": [],
   "source": [
    "# Part 2 - Fitting the CNN to the images\n",
    "\n",
    "from keras.preprocessing.image import ImageDataGenerator\n",
    "\n",
    "train_datagen = ImageDataGenerator(rescale = 1./255,\n",
    "                                   shear_range = 0.2,\n",
    "                                   zoom_range = 0.2,\n",
    "                                   horizontal_flip = True)\n",
    "test_datagen = ImageDataGenerator(rescale = 1./255)"
   ]
  },
  {
   "cell_type": "code",
   "execution_count": 21,
   "id": "310bc5c1",
   "metadata": {},
   "outputs": [
    {
     "name": "stdout",
     "output_type": "stream",
     "text": [
      "Found 315 images belonging to 2 classes.\n",
      "Found 315 images belonging to 2 classes.\n"
     ]
    }
   ],
   "source": [
    "training_set = train_datagen.flow_from_directory('D:/2022-2023/Python Project/dogcat_new/dataset',\n",
    "                                                 target_size = (64, 64),\n",
    "                                                 batch_size = 32,\n",
    "                                                 class_mode = 'binary')\n",
    "\n",
    "test_set = test_datagen.flow_from_directory('D:/2022-2023/Python Project/dogcat_new/dataset',\n",
    "                                            target_size = (64, 64),\n",
    "                                            batch_size = 32,\n",
    "                                            class_mode = 'binary')\n"
   ]
  },
  {
   "cell_type": "markdown",
   "id": "5f239cac",
   "metadata": {},
   "source": [
    "# Train the CNN model"
   ]
  },
  {
   "cell_type": "code",
   "execution_count": 22,
   "id": "d5bcfde8",
   "metadata": {},
   "outputs": [
    {
     "name": "stdout",
     "output_type": "stream",
     "text": [
      "Epoch 1/10\n"
     ]
    },
    {
     "name": "stderr",
     "output_type": "stream",
     "text": [
      "C:\\Users\\hp\\AppData\\Local\\Temp\\ipykernel_32720\\4123376074.py:1: UserWarning: `Model.fit_generator` is deprecated and will be removed in a future version. Please use `Model.fit`, which supports generators.\n",
      "  model = classifier.fit_generator(training_set,\n"
     ]
    },
    {
     "name": "stdout",
     "output_type": "stream",
     "text": [
      "8/8 [==============================] - ETA: 0s - loss: 1.3133 - accuracy: 0.7649WARNING:tensorflow:Your input ran out of data; interrupting training. Make sure that your dataset or generator can generate at least `steps_per_epoch * epochs` batches (in this case, 2000 batches). You may need to use the repeat() function when building your dataset.\n",
      "8/8 [==============================] - 2s 200ms/step - loss: 1.3133 - accuracy: 0.7649 - val_loss: 0.7314 - val_accuracy: 0.4635\n",
      "Epoch 2/10\n",
      "8/8 [==============================] - 1s 98ms/step - loss: 0.5762 - accuracy: 0.8086\n",
      "Epoch 3/10\n",
      "8/8 [==============================] - 1s 112ms/step - loss: 0.3772 - accuracy: 0.8606\n",
      "Epoch 4/10\n",
      "8/8 [==============================] - 1s 107ms/step - loss: 0.3530 - accuracy: 0.8645\n",
      "Epoch 5/10\n",
      "8/8 [==============================] - 1s 101ms/step - loss: 0.2985 - accuracy: 0.8606\n",
      "Epoch 6/10\n",
      "8/8 [==============================] - 1s 94ms/step - loss: 0.2809 - accuracy: 0.8633\n",
      "Epoch 7/10\n",
      "8/8 [==============================] - 1s 117ms/step - loss: 0.2618 - accuracy: 0.8725\n",
      "Epoch 8/10\n",
      "8/8 [==============================] - 1s 90ms/step - loss: 0.2495 - accuracy: 0.8924\n",
      "Epoch 9/10\n",
      "8/8 [==============================] - 1s 100ms/step - loss: 0.2259 - accuracy: 0.8867\n",
      "Epoch 10/10\n",
      "8/8 [==============================] - 1s 118ms/step - loss: 0.2115 - accuracy: 0.8964\n",
      "Model: \"sequential_2\"\n",
      "_________________________________________________________________\n",
      " Layer (type)                Output Shape              Param #   \n",
      "=================================================================\n",
      " conv2d_2 (Conv2D)           (None, 62, 62, 32)        896       \n",
      "                                                                 \n",
      " max_pooling2d_2 (MaxPooling  (None, 31, 31, 32)       0         \n",
      " 2D)                                                             \n",
      "                                                                 \n",
      " flatten_2 (Flatten)         (None, 30752)             0         \n",
      "                                                                 \n",
      " dense_4 (Dense)             (None, 128)               3936384   \n",
      "                                                                 \n",
      " dense_5 (Dense)             (None, 1)                 129       \n",
      "                                                                 \n",
      "=================================================================\n",
      "Total params: 3,937,409\n",
      "Trainable params: 3,937,409\n",
      "Non-trainable params: 0\n",
      "_________________________________________________________________\n"
     ]
    }
   ],
   "source": [
    "model = classifier.fit_generator(training_set,\n",
    "                         steps_per_epoch = 8,\n",
    "                         epochs = 10,\n",
    "                         validation_data = test_set,    \n",
    "                         validation_steps = 2000)\n",
    "classifier.summary()\n"
   ]
  },
  {
   "cell_type": "markdown",
   "id": "78c3f1bb",
   "metadata": {},
   "source": [
    "# Save the model"
   ]
  },
  {
   "cell_type": "code",
   "execution_count": 6,
   "id": "3cb14269",
   "metadata": {},
   "outputs": [
    {
     "name": "stdout",
     "output_type": "stream",
     "text": [
      "Saved model to disk\n"
     ]
    }
   ],
   "source": [
    "classifier.save(\"fruitmodel.h5\")\n",
    "print(\"Saved model to disk\")"
   ]
  },
  {
   "cell_type": "markdown",
   "id": "f2e4bb9a",
   "metadata": {},
   "source": [
    "# Part 3 - Making new predictions"
   ]
  },
  {
   "cell_type": "code",
   "execution_count": 7,
   "id": "973b618f",
   "metadata": {},
   "outputs": [
    {
     "name": "stdout",
     "output_type": "stream",
     "text": [
      "1/1 [==============================] - 0s 125ms/step\n",
      "Banana\n"
     ]
    }
   ],
   "source": [
    "# Part 3 - Making new predictions\n",
    "\n",
    "import numpy as np\n",
    "from tensorflow.keras.preprocessing import image\n",
    "test_image = image.load_img('D:/2022-2023/Python Project/dogcat_new/bananna.jpg', target_size = (64, 64))\n",
    "test_image = image.img_to_array(test_image)\n",
    "test_image = np.expand_dims(test_image, axis = 0)\n",
    "result = classifier.predict(test_image)\n",
    "training_set.class_indices\n",
    "if result[0][0] == 1:\n",
    "    prediction = 'Apple'\n",
    "    print(prediction)\n",
    "else:\n",
    "    prediction = 'Banana'\n",
    "    print(prediction)"
   ]
  },
  {
   "cell_type": "markdown",
   "id": "ef0fdc04",
   "metadata": {},
   "source": [
    "# Part 3 - Another way Making new predictions"
   ]
  },
  {
   "cell_type": "code",
   "execution_count": 23,
   "id": "bc67711a",
   "metadata": {},
   "outputs": [
    {
     "name": "stdout",
     "output_type": "stream",
     "text": [
      "1/1 [==============================] - 0s 47ms/step\n"
     ]
    },
    {
     "data": {
      "image/png": "[encoded data removed]",
      "text/plain": [
       "<Figure size 640x480 with 1 Axes>"
      ]
     },
     "metadata": {},
     "output_type": "display_data"
    }
   ],
   "source": [
    "#Prediction of image\n",
    "%matplotlib inline\n",
    "import tensorflow\n",
    "from tensorflow.keras.preprocessing import image\n",
    "import matplotlib.pyplot as plt\n",
    "import numpy as np\n",
    "img1 = image.load_img('D:/2022-2023/Python Project/dogcat_new/bananna.jpg', target_size=(64, 64))\n",
    "img = image.img_to_array(img1)\n",
    "img = img/255\n",
    "# create a batch of size 1 [N,H,W,C]\n",
    "img = np.expand_dims(img, axis=0)\n",
    "prediction = classifier.predict(img, batch_size=None,steps=1) #gives all class prob.\n",
    "if(prediction[:,:]>0.5):\n",
    "    value ='Apple :%1.2f'%(prediction[0,0])\n",
    "    plt.text(20, 62,value,color='red',fontsize=18,bbox=dict(facecolor='white',alpha=0.8))\n",
    "else:\n",
    "    value ='Banana :%1.2f'%(1.0-prediction[0,0])\n",
    "    plt.text(20, 62,value,color='red',fontsize=18,bbox=dict(facecolor='white',alpha=0.8))\n",
    "\n",
    "plt.imshow(img1)\n",
    "plt.show()"
   ]
  },
  {
   "cell_type": "code",
   "execution_count": 9,
   "id": "b302b0e2",
   "metadata": {},
   "outputs": [
    {
     "name": "stderr",
     "output_type": "stream",
     "text": [
      "C:\\Users\\hp\\AppData\\Local\\Temp\\ipykernel_32720\\2066635799.py:3: UserWarning: `Model.predict_generator` is deprecated and will be removed in a future version. Please use `Model.predict`, which supports generators.\n",
      "  ytesthat = classifier.predict_generator(test_set)\n"
     ]
    }
   ],
   "source": [
    "import pandas as pd\n",
    "test_set.reset\n",
    "ytesthat = classifier.predict_generator(test_set)\n",
    "df = pd.DataFrame({\n",
    "    'filename':test_set.filenames,\n",
    "    'predict':ytesthat[:,0],\n",
    "    'y':test_set.classes\n",
    "})"
   ]
  },
  {
   "cell_type": "code",
   "execution_count": 10,
   "id": "25c25cac",
   "metadata": {},
   "outputs": [
    {
     "data": {
      "text/html": [
       "<div>\n",
       "<style scoped>\n",
       "    .dataframe tbody tr th:only-of-type {\n",
       "        vertical-align: middle;\n",
       "    }\n",
       "\n",
       "    .dataframe tbody tr th {\n",
       "        vertical-align: top;\n",
       "    }\n",
       "\n",
       "    .dataframe thead th {\n",
       "        text-align: right;\n",
       "    }\n",
       "</style>\n",
       "<table border=\"1\" class=\"dataframe\">\n",
       "  <thead>\n",
       "    <tr style=\"text-align: right;\">\n",
       "      <th></th>\n",
       "      <th>filename</th>\n",
       "      <th>predict</th>\n",
       "      <th>y</th>\n",
       "      <th>y_pred</th>\n",
       "    </tr>\n",
       "  </thead>\n",
       "  <tbody>\n",
       "    <tr>\n",
       "      <th>0</th>\n",
       "      <td>Apple\\Golden-Delicious_002.jpg</td>\n",
       "      <td>0.05543</td>\n",
       "      <td>0</td>\n",
       "      <td>0</td>\n",
       "    </tr>\n",
       "    <tr>\n",
       "      <th>1</th>\n",
       "      <td>Apple\\Golden-Delicious_003.jpg</td>\n",
       "      <td>0.00163</td>\n",
       "      <td>0</td>\n",
       "      <td>0</td>\n",
       "    </tr>\n",
       "    <tr>\n",
       "      <th>2</th>\n",
       "      <td>Apple\\Golden-Delicious_004.jpg</td>\n",
       "      <td>0.00062</td>\n",
       "      <td>0</td>\n",
       "      <td>0</td>\n",
       "    </tr>\n",
       "    <tr>\n",
       "      <th>3</th>\n",
       "      <td>Apple\\Golden-Delicious_005.jpg</td>\n",
       "      <td>0.31707</td>\n",
       "      <td>0</td>\n",
       "      <td>0</td>\n",
       "    </tr>\n",
       "    <tr>\n",
       "      <th>4</th>\n",
       "      <td>Apple\\Golden-Delicious_006.jpg</td>\n",
       "      <td>0.02286</td>\n",
       "      <td>0</td>\n",
       "      <td>0</td>\n",
       "    </tr>\n",
       "    <tr>\n",
       "      <th>5</th>\n",
       "      <td>Apple\\Golden-Delicious_007.jpg</td>\n",
       "      <td>0.00249</td>\n",
       "      <td>0</td>\n",
       "      <td>0</td>\n",
       "    </tr>\n",
       "    <tr>\n",
       "      <th>6</th>\n",
       "      <td>Apple\\Golden-Delicious_008.jpg</td>\n",
       "      <td>0.06059</td>\n",
       "      <td>0</td>\n",
       "      <td>0</td>\n",
       "    </tr>\n",
       "    <tr>\n",
       "      <th>7</th>\n",
       "      <td>Apple\\Golden-Delicious_009.jpg</td>\n",
       "      <td>0.04871</td>\n",
       "      <td>0</td>\n",
       "      <td>0</td>\n",
       "    </tr>\n",
       "    <tr>\n",
       "      <th>8</th>\n",
       "      <td>Apple\\Golden-Delicious_010.jpg</td>\n",
       "      <td>0.08841</td>\n",
       "      <td>0</td>\n",
       "      <td>0</td>\n",
       "    </tr>\n",
       "    <tr>\n",
       "      <th>9</th>\n",
       "      <td>Apple\\Golden-Delicious_011.jpg</td>\n",
       "      <td>0.00040</td>\n",
       "      <td>0</td>\n",
       "      <td>0</td>\n",
       "    </tr>\n",
       "  </tbody>\n",
       "</table>\n",
       "</div>"
      ],
      "text/plain": [
       "                         filename  predict  y  y_pred\n",
       "0  Apple\\Golden-Delicious_002.jpg  0.05543  0       0\n",
       "1  Apple\\Golden-Delicious_003.jpg  0.00163  0       0\n",
       "2  Apple\\Golden-Delicious_004.jpg  0.00062  0       0\n",
       "3  Apple\\Golden-Delicious_005.jpg  0.31707  0       0\n",
       "4  Apple\\Golden-Delicious_006.jpg  0.02286  0       0\n",
       "5  Apple\\Golden-Delicious_007.jpg  0.00249  0       0\n",
       "6  Apple\\Golden-Delicious_008.jpg  0.06059  0       0\n",
       "7  Apple\\Golden-Delicious_009.jpg  0.04871  0       0\n",
       "8  Apple\\Golden-Delicious_010.jpg  0.08841  0       0\n",
       "9  Apple\\Golden-Delicious_011.jpg  0.00040  0       0"
      ]
     },
     "execution_count": 10,
     "metadata": {},
     "output_type": "execute_result"
    }
   ],
   "source": [
    "pd.set_option('display.float_format', lambda x: '%.5f' % x)\n",
    "df['y_pred'] = df['predict']>0.5\n",
    "df.y_pred = df.y_pred.astype(int)\n",
    "df.head(10)"
   ]
  },
  {
   "cell_type": "code",
   "execution_count": 11,
   "id": "52cb2c78",
   "metadata": {},
   "outputs": [
    {
     "name": "stdout",
     "output_type": "stream",
     "text": [
      "Total misclassified image from 5000 Validation images : 44\n"
     ]
    }
   ],
   "source": [
    "misclassified = df[df['y']!=df['y_pred']]\n",
    "print('Total misclassified image from 5000 Validation images : %d'%misclassified['y'].count())"
   ]
  },
  {
   "cell_type": "code",
   "execution_count": 12,
   "id": "bec83d70",
   "metadata": {},
   "outputs": [
    {
     "data": {
      "image/png": "[encoded data removed]",
      "text/plain": [
       "<Figure size 640x480 with 2 Axes>"
      ]
     },
     "metadata": {},
     "output_type": "display_data"
    }
   ],
   "source": [
    "#Prediction of test set\n",
    "from sklearn.metrics import confusion_matrix \n",
    "import matplotlib.pyplot as plt\n",
    "import seaborn as sns\n",
    "\n",
    "conf_matrix = confusion_matrix(df.y,df.y_pred)\n",
    "sns.heatmap(conf_matrix,cmap=\"YlGnBu\",annot=True,fmt='g');\n",
    "plt.xlabel('predicted value')\n",
    "plt.ylabel('true value');"
   ]
  },
  {
   "cell_type": "code",
   "execution_count": null,
   "id": "4abf79d5",
   "metadata": {},
   "outputs": [],
   "source": []
  }
 ],
 "metadata": {
  "kernelspec": {
   "display_name": "Python 3 (ipykernel)",
   "language": "python",
   "name": "python3"
  },
  "language_info": {
   "codemirror_mode": {
    "name": "ipython",
    "version": 3
   },
   "file_extension": ".py",
   "mimetype": "text/x-python",
   "name": "python",
   "nbconvert_exporter": "python",
   "pygments_lexer": "ipython3",
   "version": "3.8.0"
  }
 },
 "nbformat": 4,
 "nbformat_minor": 5
}
